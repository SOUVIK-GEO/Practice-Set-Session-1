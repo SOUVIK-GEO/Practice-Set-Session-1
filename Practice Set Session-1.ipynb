{
 "cells": [
  {
   "cell_type": "markdown",
   "id": "cd013374",
   "metadata": {},
   "source": [
    "# Program to Convert Decimal to Binary, Octal and Hexadecimal in Python"
   ]
  },
  {
   "cell_type": "code",
   "execution_count": 78,
   "id": "d8137bf6",
   "metadata": {},
   "outputs": [
    {
     "name": "stdout",
     "output_type": "stream",
     "text": [
      "Type a decimal:8\n",
      "The Binary value of 8 is: 0b1000\n",
      "The Octal value of 8 is: 0o10\n",
      "The Hexadecimal value of 8 is: 0x8\n"
     ]
    }
   ],
   "source": [
    "n = int(input(\"Type a decimal:\"))\n",
    "print(\"The Binary value of\", n, \"is:\", bin(n))\n",
    "print(\"The Octal value of\", n, \"is:\", oct(n))\n",
    "print(\"The Hexadecimal value of\", n, \"is:\", hex(n))"
   ]
  },
  {
   "cell_type": "markdown",
   "id": "c4692b7f",
   "metadata": {},
   "source": [
    "# Program to Compute Simple Interest in Python"
   ]
  },
  {
   "cell_type": "code",
   "execution_count": 77,
   "id": "ebac050d",
   "metadata": {},
   "outputs": [
    {
     "name": "stdout",
     "output_type": "stream",
     "text": [
      "Enter Your Amount:788\n",
      "Enter the Rate of Interest:9\n",
      "Your Simple interest per Annum is: 70.92\n"
     ]
    }
   ],
   "source": [
    "x = float(input(\"Enter Your Amount:\"))\n",
    "y = float(input(\"Enter the Rate of Interest:\"))\n",
    "z = x*(y/100)\n",
    "print(\"Your Simple interest per Annum is:\", z)"
   ]
  },
  {
   "cell_type": "markdown",
   "id": "64c3b8b3",
   "metadata": {},
   "source": [
    "# Python Program to Calculate the Average of Numbers in a Given List"
   ]
  },
  {
   "cell_type": "code",
   "execution_count": 13,
   "id": "a98ec8eb",
   "metadata": {},
   "outputs": [
    {
     "name": "stdout",
     "output_type": "stream",
     "text": [
      "Your Average is: 54.285714285714285\n"
     ]
    }
   ],
   "source": [
    "from statistics import mean\n",
    "x = [23, 45, 100, 45, 67, 68, 32]\n",
    "mean = mean(x)\n",
    "print (\"Your Average is:\", mean)"
   ]
  },
  {
   "cell_type": "markdown",
   "id": "ce808af5",
   "metadata": {},
   "source": [
    "# Python Program to Print Sum of Negative Numbers, Positive Even Numbers and Positive Odd numbers in a List"
   ]
  },
  {
   "cell_type": "code",
   "execution_count": null,
   "id": "d129abcc",
   "metadata": {},
   "outputs": [],
   "source": []
  },
  {
   "cell_type": "code",
   "execution_count": 63,
   "id": "15b272f6",
   "metadata": {},
   "outputs": [
    {
     "name": "stdout",
     "output_type": "stream",
     "text": [
      "Sum of Negative Numbers: -23\n",
      "Sum of Positive Even Numbers: 250\n",
      "Sum of Positive Odd Numbers: 234\n"
     ]
    }
   ],
   "source": [
    "l = [23, 56, -4, 35, 68, -9, -10, 24, 97, 56, 46, 79]; i=0\n",
    "pe = [i for i in l if i>0 and i%2 == 0]\n",
    "po = [i for i in l if i>0 and i%2 != 0]\n",
    "n = [i for i in l if i<0]\n",
    "print(\"Sum of Negative Numbers:\", sum(n))\n",
    "print(\"Sum of Positive Even Numbers:\", sum(pe))\n",
    "print(\"Sum of Positive Odd Numbers:\", sum(po))"
   ]
  },
  {
   "cell_type": "markdown",
   "id": "fcff95d6",
   "metadata": {},
   "source": [
    "# Python Program to Find Median of List"
   ]
  },
  {
   "cell_type": "code",
   "execution_count": 66,
   "id": "0ee7fc4e",
   "metadata": {},
   "outputs": [
    {
     "name": "stdout",
     "output_type": "stream",
     "text": [
      "The Median Value is: 40.5\n"
     ]
    }
   ],
   "source": [
    "import statistics\n",
    "l = [23, 56, 4, 35, 68, -9, -10, 24, 97, 56, 46, 79]\n",
    "median = statistics.median(l)\n",
    "print (\"The Median Value is:\", median)"
   ]
  },
  {
   "cell_type": "markdown",
   "id": "73531c1f",
   "metadata": {},
   "source": [
    "# Python Program to Print Largest Even and Largest Odd Number in a List"
   ]
  },
  {
   "cell_type": "code",
   "execution_count": 67,
   "id": "38c3b104",
   "metadata": {},
   "outputs": [
    {
     "name": "stdout",
     "output_type": "stream",
     "text": [
      "Largest Even Number: 68\n",
      "Largest Odd Number: 97\n"
     ]
    }
   ],
   "source": [
    "l = [23, 56, 4, 35, 68, -9, -10, 24, 97, 56, 46, 79]\n",
    "even = [i for i in l if i%2 == 0]\n",
    "odd = [i for i in l if i%2 != 0]\n",
    "print(\"Largest Even Number:\", max(even))\n",
    "print(\"Largest Odd Number:\", max(odd))"
   ]
  },
  {
   "cell_type": "markdown",
   "id": "9fa36ab6",
   "metadata": {},
   "source": [
    "# Python program to Convert Kilometres to Miles and Vice Versa"
   ]
  },
  {
   "cell_type": "code",
   "execution_count": 84,
   "id": "1268ec6e",
   "metadata": {},
   "outputs": [
    {
     "name": "stdout",
     "output_type": "stream",
     "text": [
      "Length in KM:60\n",
      "Length in Mile: 37.28226\n",
      "Length in mile:37.28226\n",
      "Length in Km: 59.98715634\n"
     ]
    }
   ],
   "source": [
    "km = float(input(\"Length in KM:\"))\n",
    "mile = km*0.621371\n",
    "print(\"Length in Mile:\", mile)\n",
    "\n",
    "mile = float(input(\"Length in mile:\"))\n",
    "k = mile*1.609\n",
    "print(\"Length in Km:\", k)"
   ]
  },
  {
   "cell_type": "markdown",
   "id": "3eab7c06",
   "metadata": {},
   "source": [
    "# Python program to convert seconds into day, hours, minutes and seconds"
   ]
  },
  {
   "cell_type": "code",
   "execution_count": 8,
   "id": "2a3b9cd8",
   "metadata": {},
   "outputs": [
    {
     "name": "stdout",
     "output_type": "stream",
     "text": [
      "Enter time in Seconds: 453434555555\n",
      "time in minutes is 5248085days 3hour 12min 35sec\n"
     ]
    }
   ],
   "source": [
    "sec = int(input(\"Enter time in Seconds: \"))\n",
    "temp = sec\n",
    "day = sec // 86400\n",
    "sec %= 86400\n",
    "hour = sec // 3600\n",
    "sec %= 3600\n",
    "mins = sec // 60\n",
    "sec %= 60\n",
    "\n",
    "if day >= 1:\n",
    "    print(f'time in minutes is {day}days {hour}hour {mins}min {sec}sec')\n",
    "\n",
    "elif hour >= 1:\n",
    "    if mins == 0 and sec == 0:\n",
    "        print(f'time in minutes is {hour}hour')\n",
    "    elif mins == 0:\n",
    "        print(f'time in minutes is {hour}hour {sec}sec')\n",
    "    elif sec == 0:\n",
    "        print(f'time in minutes is {hour}hour {mins}min')\n",
    "    else:\n",
    "        print(f'time in minutes is {hour}hour {mins}min {sec}sec')\n",
    "\n",
    "elif mins >= 1:\n",
    "    if sec == 0:\n",
    "        print(f'time in minutes is {mins}min')\n",
    "    else:\n",
    "        print(f'time in minutes is {mins}min {sec}sec')\n",
    "\n",
    "elif sec >= 1:\n",
    "    print(f'time sec == {sec} sec')"
   ]
  },
  {
   "cell_type": "markdown",
   "id": "7b675929",
   "metadata": {},
   "source": [
    "# Python Program to Read Height in Centimetres and then Convert the Height to Feet and Inches"
   ]
  },
  {
   "cell_type": "code",
   "execution_count": 4,
   "id": "65fe4e45",
   "metadata": {},
   "outputs": [
    {
     "name": "stdout",
     "output_type": "stream",
     "text": [
      "Enter the height in centimetres:677\n",
      "Height in Inches: 266.5354330698\n",
      "Height in Feets: 22.2056\n"
     ]
    }
   ],
   "source": [
    "x = float(input(\"Enter the height in centimetres:\"))\n",
    "y = x*0.3937007874\n",
    "z = x*0.0328\n",
    "print(\"Height in Inches:\", y)\n",
    "print(\"Height in Feets:\", z)"
   ]
  },
  {
   "cell_type": "markdown",
   "id": "1bd22eb5",
   "metadata": {},
   "source": [
    "# Python program to calculate GST"
   ]
  },
  {
   "cell_type": "code",
   "execution_count": 28,
   "id": "dda0e574",
   "metadata": {},
   "outputs": [
    {
     "name": "stdout",
     "output_type": "stream",
     "text": [
      "Enter the price:776\n",
      "Enter the product type:jj\n",
      "Price is not subjected to GST and the price is: 776.0 Rs.\n"
     ]
    }
   ],
   "source": [
    "x = float(input(\"Enter the price:\"))\n",
    "y = str(input(\"Enter the product type:\"))\n",
    "if y==\"electric\":\n",
    "    a = x*(9/100)\n",
    "    b = (2*a)+x\n",
    "    print(\"CGST:\", a, \"Rs.\")\n",
    "    print(\"SGST:\", a, \"Rs.\")\n",
    "    print(\"Price including GST:\", b, \"Rs.\")\n",
    "elif y==\"food\":\n",
    "    aa = x*(2.5/100)\n",
    "    bb = (2*aa)+x\n",
    "    print(\"CGST (2.5%):\", aa, \"Rs.\")\n",
    "    print(\"SGST (2.5%):\", aa, \"Rs.\")\n",
    "    print(\"Price including GST:\", bb, \"Rs.\")\n",
    "else:\n",
    "    print(\"Price is not subjected to GST and the price is:\", x, \"Rs.\")"
   ]
  },
  {
   "cell_type": "markdown",
   "id": "56996307",
   "metadata": {},
   "source": [
    "# Python program to calculate EMI"
   ]
  },
  {
   "cell_type": "code",
   "execution_count": 31,
   "id": "80c8352f",
   "metadata": {},
   "outputs": [
    {
     "name": "stdout",
     "output_type": "stream",
     "text": [
      "Enter the base amount in Rs.: 7000\n",
      "Enter the time period in Months:- 24\n",
      "Enter rate of Interest in %:- 3\n",
      "EMI amount is  501.6666666666667 per month\n"
     ]
    }
   ],
   "source": [
    "p = float(input(\"Enter the base amount in Rs.: \"))\n",
    "t = float(input(\"Enter the time period in Months: \"))\n",
    "i = float(input(\"Enter rate of Interest in %:- \"))\n",
    "int_amount = p * t * i /100\n",
    "total_amount = p + int_amount\n",
    "emi = total_amount /t\n",
    "print(\"EMI amount is \",emi, \"per month\")"
   ]
  },
  {
   "cell_type": "markdown",
   "id": "37664c69",
   "metadata": {},
   "source": [
    "# Python program to calculate BMI"
   ]
  },
  {
   "cell_type": "code",
   "execution_count": 34,
   "id": "af8f89af",
   "metadata": {},
   "outputs": [
    {
     "name": "stdout",
     "output_type": "stream",
     "text": [
      "Enter your weights in Kgs.: 65\n",
      "Enter your heights in metres: 1.23\n",
      "Your BMI is: 42.96384427258907\n"
     ]
    }
   ],
   "source": [
    "w = float(input(\"Enter your weights in Kgs.: \"))\n",
    "h = float(input(\"Enter your heights in metres: \"))\n",
    "BMI = w/(h*h)\n",
    "print(\"Your BMI is:\", BMI)"
   ]
  },
  {
   "cell_type": "markdown",
   "id": "923ca2c1",
   "metadata": {},
   "source": [
    "# Python program to compute Euclidean Distance"
   ]
  },
  {
   "cell_type": "code",
   "execution_count": 38,
   "id": "daadc888",
   "metadata": {},
   "outputs": [
    {
     "name": "stdout",
     "output_type": "stream",
     "text": [
      "The Euclidean distance between node1 and node2 is: 8.246211251235321\n"
     ]
    }
   ],
   "source": [
    "from math import sqrt\n",
    "\n",
    "node1 = [3,1]\n",
    "node2 = [5,9]\n",
    "\n",
    "diff_1 = (node2[0] - node1[0]) * (node2[0] - node1[0])\n",
    "diff_2 = (node2[1] - node1[1]) * (node2[1] - node1[1])\n",
    "dist = sqrt(diff_1 + diff_2)\n",
    "print(\"The Euclidean distance between node1 and node2 is:\", dist)"
   ]
  },
  {
   "cell_type": "code",
   "execution_count": 42,
   "id": "b334dd8f",
   "metadata": {},
   "outputs": [
    {
     "name": "stdout",
     "output_type": "stream",
     "text": [
      "Enter x coordinate value of node1: 23\n",
      "Enter y coordinate value of node1: 34\n",
      "Enter x coordinate value of node2: 59\n",
      "Enter y coordinate value of node2: 70\n",
      "The Euclidean distance between node1 and node2 is: 50.91168824543142\n"
     ]
    }
   ],
   "source": [
    "from math import sqrt\n",
    "node1_x= float(input(\"Enter x coordinate value of node1: \"))\n",
    "node1_y = float(input(\"Enter y coordinate value of node1: \"))\n",
    "\n",
    "node2_x= float(input(\"Enter x coordinate value of node2: \"))\n",
    "node2_y = float(input(\"Enter y coordinate value of node2: \"))\n",
    "\n",
    "diff_1 = (node2_x - node1_x) * (node2_x - node1_x)\n",
    "diff_2 = (node2_y - node1_y) * (node2_y - node1_y)\n",
    "dist = sqrt(diff_1 + diff_2)\n",
    "print(\"The Euclidean distance between node1 and node2 is:\", dist)"
   ]
  },
  {
   "cell_type": "code",
   "execution_count": null,
   "id": "0bcb5246",
   "metadata": {},
   "outputs": [],
   "source": []
  }
 ],
 "metadata": {
  "kernelspec": {
   "display_name": "Python 3 (ipykernel)",
   "language": "python",
   "name": "python3"
  },
  "language_info": {
   "codemirror_mode": {
    "name": "ipython",
    "version": 3
   },
   "file_extension": ".py",
   "mimetype": "text/x-python",
   "name": "python",
   "nbconvert_exporter": "python",
   "pygments_lexer": "ipython3",
   "version": "3.11.5"
  }
 },
 "nbformat": 4,
 "nbformat_minor": 5
}
